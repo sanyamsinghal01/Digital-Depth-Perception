{
  "nbformat": 4,
  "nbformat_minor": 0,
  "metadata": {
    "colab": {
      "name": "dispmap2.ipynb",
      "provenance": [],
      "collapsed_sections": []
    },
    "kernelspec": {
      "name": "python3",
      "display_name": "Python 3"
    }
  },
  "cells": [
    {
      "cell_type": "code",
      "metadata": {
        "id": "9ZyIdt7hq4Fv",
        "colab_type": "code",
        "colab": {}
      },
      "source": [
        "import numpy as np\n",
        "import cv2\n",
        "import math as m\n",
        "import matplotlib.pyplot as plt\n"
      ],
      "execution_count": 0,
      "outputs": []
    },
    {
      "cell_type": "code",
      "metadata": {
        "id": "AnBGScnFlMA_",
        "colab_type": "code",
        "colab": {}
      },
      "source": [
        "imgL = cv2.imread('pair0-L.png',cv2.IMREAD_GRAYSCALE)\n",
        "imgR = cv2.imread('pair0-R.png',cv2.IMREAD_GRAYSCALE)\n"
      ],
      "execution_count": 0,
      "outputs": []
    },
    {
      "cell_type": "code",
      "metadata": {
        "id": "vPH-X0GDlkGz",
        "colab_type": "code",
        "colab": {}
      },
      "source": [
        "def computeDisparity(imgL, imgR, sz_win, step):\n",
        "  sz_imgL = imgL.shape\n",
        "  sz_imgR = imgR.shape\n",
        "\n",
        "  disp_map=np.zeros(sz_imgL)\n",
        "\n",
        "  for i in range(sz_imgL[0]-sz_win[0]):\n",
        "    for j in range(sz_imgL[1]-sz_win[1]):\n",
        "      ssd = [m.inf, 0]\n",
        "      for l in range(0,sz_imgL[1]-sz_win[1],step):\n",
        "          winL = imgL[i:i+sz_win[0], j:j+sz_win[1]]\n",
        "          winR = imgR[i:i+sz_win[0], l:l+sz_win[1]]\n",
        "          sdf=(winL-winR).flatten()\n",
        "          sdf=np.square(sdf,dtype=float)\n",
        "          sum1=np.sum(sdf)\n",
        "          if sum1<ssd[0]:\n",
        "            ssd = [sum1, abs(l-j)]\n",
        "\n",
        "      disp_map[i][j] = ssd[1]\n",
        "  return disp_map"
      ],
      "execution_count": 0,
      "outputs": []
    },
    {
      "cell_type": "code",
      "metadata": {
        "id": "ingEF9IKomS7",
        "colab_type": "code",
        "colab": {}
      },
      "source": [
        "def normalizeDespMap(disp_map):\n",
        "  maximum = np.amax(disp_map)\n",
        "  print(maximum)\n",
        "  disp_map = (disp_map*255)//maximum\n",
        "\n",
        "  return disp_map"
      ],
      "execution_count": 0,
      "outputs": []
    },
    {
      "cell_type": "code",
      "metadata": {
        "id": "LQ-hkeEuos_J",
        "colab_type": "code",
        "colab": {}
      },
      "source": [
        "sz_win = tuple(map(int, input(\"Enter space separated values for height and width of the window: \").split()))\n",
        "step = int(input(\"Enter the pixel steps for jump: \"))\n",
        "disp_map = computeDisparity(imgL, imgR, sz_win,step)\n",
        "ndisp_map=normalizeDespMap(disp_map)\n",
        "plt.imshow(ndisp_map,'gray')\n",
        "plt.show()"
      ],
      "execution_count": 0,
      "outputs": []
    }
  ]
}