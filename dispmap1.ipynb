{
  "nbformat": 4,
  "nbformat_minor": 0,
  "metadata": {
    "colab": {
      "name": "dispmap1.ipynb",
      "provenance": [],
      "collapsed_sections": []
    },
    "kernelspec": {
      "name": "python3",
      "display_name": "Python 3"
    }
  },
  "cells": [
    {
      "cell_type": "code",
      "metadata": {
        "id": "9ZyIdt7hq4Fv",
        "colab_type": "code",
        "colab": {}
      },
      "source": [
        "import numpy as np\n",
        "import cv2\n",
        "import math as m\n",
        "import matplotlib.pyplot as plt\n"
      ],
      "execution_count": 0,
      "outputs": []
    },
    {
      "cell_type": "code",
      "metadata": {
        "id": "AnBGScnFlMA_",
        "colab_type": "code",
        "colab": {}
      },
      "source": [
        "imgL = cv2.imread('pair0-L.png',cv2.IMREAD_GRAYSCALE)\n",
        "imgR = cv2.imread('pair0-R.png',cv2.IMREAD_GRAYSCALE)\n"
      ],
      "execution_count": 0,
      "outputs": []
    },
    {
      "cell_type": "code",
      "metadata": {
        "id": "vPH-X0GDlkGz",
        "colab_type": "code",
        "colab": {}
      },
      "source": [
        "def computeDisparity(imgL, imgR, sz_win, nbrh, step):\n",
        "  sz_imgL = imgL.shape\n",
        "  sz_imgR = imgR.shape\n",
        "\n",
        "  disp_map=np.zeros(sz_imgL)\n",
        "\n",
        "  for i in range(sz_imgL[0]-sz_win[0]):\n",
        "    for j in range(sz_imgL[1]-sz_win[1]):\n",
        "      #print(sz_imgL[0]-sz_win[0],int(nbrh/2),sz_imgL[1]-sz_win[1]+int(nbrh/2),1)\n",
        "      ssd = [m.inf, 0]\n",
        "      for l in range(int(-nbrh/2),int(nbrh/2)+1,step):\n",
        "          sum1 = 0\n",
        "          if j+l>=0 and j+l+sz_win[1]<128:\n",
        "            winL = imgL[i:i+sz_win[0], j:j+sz_win[1]]\n",
        "            winR = imgR[i:i+sz_win[0], j+l:j+l+sz_win[1]]\n",
        "            sdf=(winL-winR).flatten()\n",
        "            sdf=np.square(sdf,dtype=float)\n",
        "            sum1=np.sum(sdf)\n",
        "          if sum1<ssd[0]:\n",
        "            ssd = [sum1, abs(l)]\n",
        "\n",
        "      disp_map[i][j] = ssd[1]\n",
        "  return disp_map"
      ],
      "execution_count": 0,
      "outputs": []
    },
    {
      "cell_type": "code",
      "metadata": {
        "id": "ingEF9IKomS7",
        "colab_type": "code",
        "colab": {}
      },
      "source": [
        "def normalizeDespMap(disp_map):\n",
        "  maximum = np.amax(disp_map)\n",
        "  print(maximum)\n",
        "  disp_map = (disp_map*255)//maximum\n",
        "\n",
        "  return disp_map"
      ],
      "execution_count": 0,
      "outputs": []
    },
    {
      "cell_type": "code",
      "metadata": {
        "id": "LQ-hkeEuos_J",
        "colab_type": "code",
        "colab": {}
      },
      "source": [
        "sz_win = tuple(map(int, input(\"Enter space separated values for height and width of the window: \").split()))\n",
        "step = int(input(\"Enter the pixel steps: \"))\n",
        "nbrh=int(input(\"Enter the neighbourhood size of a pixel\"))\n",
        "disp_map = computeDisparity(imgL, imgR, sz_win, nbrh, step)\n",
        "ndisp_map=normalizeDespMap(disp_map)\n",
        "plt.imshow(ndisp_map,'gray')\n",
        "plt.show()"
      ],
      "execution_count": 0,
      "outputs": []
    }
  ]
}